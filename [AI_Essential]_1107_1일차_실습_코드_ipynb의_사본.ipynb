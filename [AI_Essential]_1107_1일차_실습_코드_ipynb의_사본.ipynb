{
  "cells": [
    {
      "cell_type": "markdown",
      "metadata": {
        "id": "view-in-github",
        "colab_type": "text"
      },
      "source": [
        "<a href=\"https://colab.research.google.com/github/musangk/ai/blob/main/%5BAI_Essential%5D_1107_1%E1%84%8B%E1%85%B5%E1%86%AF%E1%84%8E%E1%85%A1_%E1%84%89%E1%85%B5%E1%86%AF%E1%84%89%E1%85%B3%E1%86%B8_%E1%84%8F%E1%85%A9%E1%84%83%E1%85%B3_ipynb%EC%9D%98_%EC%82%AC%EB%B3%B8.ipynb\" target=\"_parent\"><img src=\"https://colab.research.google.com/assets/colab-badge.svg\" alt=\"Open In Colab\"/></a>"
      ]
    },
    {
      "cell_type": "markdown",
      "metadata": {
        "id": "C5xyQFUQpIyf"
      },
      "source": [
        "# Python"
      ]
    },
    {
      "cell_type": "markdown",
      "metadata": {
        "id": "G-IrqKZupIyg"
      },
      "source": [
        "## 01-001 Python 코드"
      ]
    },
    {
      "cell_type": "code",
      "execution_count": null,
      "metadata": {
        "colab": {
          "base_uri": "https://localhost:8080/"
        },
        "id": "FAIaErPIpIyg",
        "outputId": "49e90cb5-b955-4f82-c45e-cc94e107372e"
      },
      "outputs": [
        {
          "name": "stdout",
          "output_type": "stream",
          "text": [
            "1 is odd\n",
            "2 is even\n",
            "3 is odd\n",
            "4 is even\n",
            "5 is odd\n"
          ]
        }
      ],
      "source": [
        "# Python: 들여쓰기로 코드 블록 설정\n",
        "def check_numbers(numbers):\n",
        "    for number in numbers:\n",
        "        if number % 2 == 0:\n",
        "            print(f'{number} is even')\n",
        "        else:\n",
        "            print(f'{number} is odd')\n",
        "\n",
        "# 함수 호출\n",
        "numbers = [1, 2, 3, 4, 5]\n",
        "check_numbers(numbers)"
      ]
    },
    {
      "cell_type": "markdown",
      "metadata": {
        "id": "DU7rcCJgpIyh"
      },
      "source": [
        "## 01-002 Python: for문을 이용한 시퀀스 순회 구조"
      ]
    },
    {
      "cell_type": "code",
      "execution_count": null,
      "metadata": {
        "id": "3U13YEWgpIyh"
      },
      "outputs": [],
      "source": [
        "# for문을 이용한 시퀀스 순회 구조\n",
        "# 시퀀스의 각 요소가 변수에 순차적으로 대입되어 실행 코드가 반복 수행됨\n",
        "for 변수 in 시퀀스:\n",
        "    실행할 코드"
      ]
    },
    {
      "cell_type": "markdown",
      "metadata": {
        "id": "eYr7l4PepIyh"
      },
      "source": [
        "## 01-002 Python: for문을 이용한 시퀀스 순회 구조"
      ]
    },
    {
      "cell_type": "code",
      "execution_count": null,
      "metadata": {
        "colab": {
          "base_uri": "https://localhost:8080/"
        },
        "id": "Xfqx6NRhpIyh",
        "outputId": "d99368ff-746b-47ec-af7d-b50134ff09f5"
      },
      "outputs": [
        {
          "name": "stdout",
          "output_type": "stream",
          "text": [
            "0\n",
            "1\n",
            "2\n",
            "3\n",
            "4\n"
          ]
        }
      ],
      "source": [
        "numbers = [0, 1, 2, 3, 4]  # 리스트 생성\n",
        "for number in numbers:  # 리스트의 각 요소를 순차적으로 number 변수에 대입\n",
        "    print(number)  # number의 값을 출력\n"
      ]
    },
    {
      "cell_type": "markdown",
      "metadata": {
        "id": "78iyAq4wpIyh"
      },
      "source": [
        "## 01-003 Python: range() 함수를 이용한 반복"
      ]
    },
    {
      "cell_type": "code",
      "execution_count": null,
      "metadata": {
        "colab": {
          "base_uri": "https://localhost:8080/"
        },
        "id": "vLBCI1ZzpIyh",
        "outputId": "0f9c511d-e0c5-471e-9649-91d44f3057f8"
      },
      "outputs": [
        {
          "name": "stdout",
          "output_type": "stream",
          "text": [
            "0\n",
            "1\n",
            "2\n",
            "3\n",
            "4\n"
          ]
        }
      ],
      "source": [
        "# range() 함수를 사용한 반복문\n",
        "for number in range(5):  # 0부터 4까지의 숫자를 생성하여 number 변수에 대입\n",
        "    print(number)  # number의 값을 출력"
      ]
    },
    {
      "cell_type": "markdown",
      "metadata": {
        "id": "05pzmu-UpIyh"
      },
      "source": [
        "## 01-004 Python: 함수의 기본 구조"
      ]
    },
    {
      "cell_type": "code",
      "execution_count": null,
      "metadata": {
        "id": "yGlx5fEVpIyi"
      },
      "outputs": [],
      "source": [
        "# 함수 정의 예시\n",
        "def 함수이름(매개변수1, 매개변수2):\n",
        "    # 실행할 코드\n",
        "    return 반환값  # 반환값은 선택 사항"
      ]
    },
    {
      "cell_type": "markdown",
      "metadata": {
        "id": "Rn6i3O8ppIyi"
      },
      "source": [
        "## 01-005 Python: 함수 정의 및 호출"
      ]
    },
    {
      "cell_type": "code",
      "execution_count": null,
      "metadata": {
        "colab": {
          "base_uri": "https://localhost:8080/"
        },
        "id": "BNJvX-anpIyi",
        "outputId": "2b67583c-3785-431c-8f56-1bacf83c015c"
      },
      "outputs": [
        {
          "name": "stdout",
          "output_type": "stream",
          "text": [
            "8\n"
          ]
        }
      ],
      "source": [
        "# 두 값을 더하는 함수 정의\n",
        "def add(a, b):  # a와 b라는 두 매개변수를 받음\n",
        "    return a + b  # 두 값을 더한 결과를 반환\n",
        "\n",
        "# 함수 호출 및 결과 출력\n",
        "result = add(5, 3)  # add 함수를 호출하여 5와 3을 더한 결과를 반환받음\n",
        "print(result)  # 결과값 출력 -> 8\n"
      ]
    },
    {
      "cell_type": "markdown",
      "metadata": {
        "id": "TNvRMmXCpIyi"
      },
      "source": [
        "## 01-006 Python: 기본 매개변수를 사용하는 함수"
      ]
    },
    {
      "cell_type": "code",
      "execution_count": null,
      "metadata": {
        "colab": {
          "base_uri": "https://localhost:8080/"
        },
        "id": "477w2kfjpIyi",
        "outputId": "44b9845b-d63d-447b-bda2-98b25904461f"
      },
      "outputs": [
        {
          "name": "stdout",
          "output_type": "stream",
          "text": [
            "Welcome Guest!\n",
            "Welcome to AI Essential!\n"
          ]
        }
      ],
      "source": [
        "# 기본 매개변수를 사용하는 함수 정의\n",
        "def welcome(name='Guest'):  # 기본값이 'Guest'인 매개변수 name\n",
        "    return f'Welcome {name}!'  # name 값을 사용해 환영 메시지 반환\n",
        "\n",
        "# 함수 호출 및 결과 출력\n",
        "print(welcome())  # 매개변수를 전달하지 않으면 기본값 'Guest'가 사용됨 -> 'Welcome Guest!'\n",
        "print(welcome('to AI Essential'))  # 'to AI Essential' 값을 전달 -> 'Welcome to AI Essential!'\n"
      ]
    },
    {
      "cell_type": "markdown",
      "metadata": {
        "id": "1q_dYVOMpIyi"
      },
      "source": [
        "## 01-007 Python: 모듈 생성 및 사용"
      ]
    },
    {
      "cell_type": "code",
      "execution_count": null,
      "metadata": {
        "colab": {
          "base_uri": "https://localhost:8080/"
        },
        "id": "yLfdxH-lpIyi",
        "outputId": "2f73cf80-2ed7-4cc2-f2dc-bdaddb7f20f9"
      },
      "outputs": [
        {
          "name": "stdout",
          "output_type": "stream",
          "text": [
            "Overwriting mymodule.py\n"
          ]
        }
      ],
      "source": [
        "%%writefile mymodule.py\n",
        "# mymodule.py\n",
        "def welcome(name='Guest'):\n",
        "    return f'Welcome {name}!'  # 기본값을 사용하여 환영 메시지 반환\n",
        "\n",
        "def add(a, b):\n",
        "    return a + b  # 두 값을 더한 결과를 반환\n"
      ]
    },
    {
      "cell_type": "markdown",
      "metadata": {
        "id": "XYB3q301pIyi"
      },
      "source": [
        "## 01-008 Python: 모듈을 사용하여 함수 호출하기"
      ]
    },
    {
      "cell_type": "code",
      "execution_count": null,
      "metadata": {
        "colab": {
          "base_uri": "https://localhost:8080/"
        },
        "id": "niDt0iHGpIyi",
        "outputId": "be32a09a-3ab0-4a5c-d6d7-f1e7ce7129a0"
      },
      "outputs": [
        {
          "name": "stdout",
          "output_type": "stream",
          "text": [
            "Welcome to AI Essential!\n",
            "8\n"
          ]
        }
      ],
      "source": [
        "# mymodule 모듈을 import\n",
        "import mymodule\n",
        "\n",
        "# 모듈 내 함수 호출\n",
        "print(mymodule.welcome('to AI Essential'))  # 'Welcome to AI Essential!' 출력\n",
        "print(mymodule.add(3, 5))  # 3 + 5 = 8 출력\n"
      ]
    },
    {
      "cell_type": "markdown",
      "metadata": {
        "id": "fk06y8RTpIyi"
      },
      "source": [
        "## 01-009 Python: 모듈을 별칭으로 불러오기"
      ]
    },
    {
      "cell_type": "code",
      "execution_count": null,
      "metadata": {
        "colab": {
          "base_uri": "https://localhost:8080/"
        },
        "id": "AS3_FSKbpIyj",
        "outputId": "a7d20f5f-b1c0-434e-dd10-b5d7e1572483"
      },
      "outputs": [
        {
          "name": "stdout",
          "output_type": "stream",
          "text": [
            "Welcome to AI Essential!\n",
            "8\n"
          ]
        }
      ],
      "source": [
        "# mymodule 모듈을 별칭 'mm'으로 import\n",
        "import mymodule as mm\n",
        "\n",
        "# 모듈의 함수를 별칭을 사용하여 호출\n",
        "print(mm.welcome('to AI Essential'))  # 'Welcome to AI Essential!' 출력\n",
        "print(mm.add(3, 5))  # 3 + 5 = 8 출력\n"
      ]
    },
    {
      "cell_type": "markdown",
      "metadata": {
        "id": "_L_2m4YWpIyj"
      },
      "source": [
        "## 01-010 Python: 모듈에서 특정 함수만 불러오기"
      ]
    },
    {
      "cell_type": "code",
      "execution_count": null,
      "metadata": {
        "colab": {
          "base_uri": "https://localhost:8080/"
        },
        "id": "gNMEBlNMpIyj",
        "outputId": "f398716f-310b-49db-d343-bf9c11f8ff21"
      },
      "outputs": [
        {
          "name": "stdout",
          "output_type": "stream",
          "text": [
            "Welcome to AI Essential!\n",
            "8\n"
          ]
        }
      ],
      "source": [
        "# mymodule 모듈에서 특정 함수만 불러오기\n",
        "from mymodule import welcome, add\n",
        "\n",
        "# welcome 함수 호출\n",
        "print(welcome('to AI Essential'))  # 'Welcome to AI Essential!' 출력\n",
        "\n",
        "# add 함수 호출\n",
        "print(add(3, 5))  # 3 + 5 = 8 출력\n"
      ]
    },
    {
      "cell_type": "markdown",
      "metadata": {
        "id": "nHcNGA1MpIyj"
      },
      "source": [
        "---"
      ]
    },
    {
      "cell_type": "markdown",
      "metadata": {
        "id": "S7xfBROrpIyj"
      },
      "source": [
        "# 02. PyTorch"
      ]
    },
    {
      "cell_type": "markdown",
      "metadata": {
        "id": "khL7Bi_IpIyj"
      },
      "source": [
        "## 02-001 PyTorch와 NumPy 라이브러리 임포트"
      ]
    },
    {
      "cell_type": "code",
      "execution_count": null,
      "metadata": {
        "id": "vL_ZoowApIyj"
      },
      "outputs": [],
      "source": [
        "import torch  # PyTorch 라이브러리 임포트\n",
        "import numpy as np  # NumPy 라이브러리 임포트"
      ]
    },
    {
      "cell_type": "markdown",
      "metadata": {
        "id": "dCL75CdSpIyj"
      },
      "source": [
        "## 02-002 1D 텐서 생성 및 출력"
      ]
    },
    {
      "cell_type": "code",
      "execution_count": null,
      "metadata": {
        "colab": {
          "base_uri": "https://localhost:8080/"
        },
        "id": "qBythReIpIyj",
        "outputId": "91d5c72a-86aa-4c7d-d5f8-ab1d61db8433"
      },
      "outputs": [
        {
          "data": {
            "text/plain": [
              "tensor([1., 2., 3.])"
            ]
          },
          "execution_count": 32,
          "metadata": {},
          "output_type": "execute_result"
        }
      ],
      "source": [
        "tensor_1d = torch.tensor([1.0, 2.0, 3.0])  # 1차원 텐서를 생성 (값: 1.0, 2.0, 3.0)\n",
        "tensor_1d  # 생성된 텐서를 출력 -> tensor([1., 2., 3.])"
      ]
    },
    {
      "cell_type": "markdown",
      "metadata": {
        "id": "3ChN2WM-pIyj"
      },
      "source": [
        "## 02-003 2D 텐서 생성 및 출력"
      ]
    },
    {
      "cell_type": "code",
      "execution_count": null,
      "metadata": {
        "colab": {
          "base_uri": "https://localhost:8080/"
        },
        "id": "7D2MNsFZpIyj",
        "outputId": "db2f8e17-3adf-47ae-d944-24433fc4a6c4"
      },
      "outputs": [
        {
          "data": {
            "text/plain": [
              "tensor([[1., 2.],\n",
              "        [3., 4.]])"
            ]
          },
          "execution_count": 33,
          "metadata": {},
          "output_type": "execute_result"
        }
      ],
      "source": [
        "tensor_2d = torch.tensor([[1.0, 2.0],\n",
        "                          [3.0, 4.0]])  # 2차원 텐서를 생성 (값: [[1.0, 2.0], [3.0, 4.0]])\n",
        "tensor_2d  # 생성된 텐서를 출력 -> tensor([[1., 2.], [3., 4.]])"
      ]
    },
    {
      "cell_type": "markdown",
      "metadata": {
        "id": "x3NEl8KupIyj"
      },
      "source": [
        "## 02-004 텐서를 GPU로 이동"
      ]
    },
    {
      "cell_type": "code",
      "execution_count": null,
      "metadata": {
        "id": "e5Gai3MQpIyj"
      },
      "outputs": [],
      "source": [
        "# 텐서를 GPU로 이동\n",
        "if torch.cuda.is_available():  # GPU 사용 가능 여부 확인\n",
        "    tensor_1d = tensor_1d.to('cuda')  # 1D 텐서 GPU로 이동\n",
        "    tensor_2d = tensor_2d.to('cuda')  # 2D 텐서 GPU로 이동"
      ]
    },
    {
      "cell_type": "markdown",
      "metadata": {
        "id": "inLc5_BrpIyk"
      },
      "source": [
        "## 02-005 NumPy 배열로부터 텐서 생성 및 dtype 지정"
      ]
    },
    {
      "cell_type": "code",
      "execution_count": null,
      "metadata": {
        "colab": {
          "base_uri": "https://localhost:8080/"
        },
        "id": "l7J9Bd_bpIyk",
        "outputId": "33ed6a74-5d8d-41b2-9a6f-5d9144ac2234"
      },
      "outputs": [
        {
          "data": {
            "text/plain": [
              "tensor([1., 2., 3.], dtype=torch.float64)"
            ]
          },
          "execution_count": 3,
          "metadata": {},
          "output_type": "execute_result"
        }
      ],
      "source": [
        "numpy_array = np.array([1, 2, 3])  # NumPy 배열 생성\n",
        "tensor_from_numpy = torch.tensor(numpy_array, dtype=torch.float64)  # NumPy 배열로부터 텐서 생성 및 dtype을 float64로 지정\n",
        "tensor_from_numpy  # 텐서 출력 -> tensor([1., 2., 3.], dtype=torch.float64)"
      ]
    },
    {
      "cell_type": "markdown",
      "metadata": {
        "id": "nHDMz15CpIyk"
      },
      "source": [
        "## 02-006 균일하게 분포된 난수로 초기화된 텐서 생성"
      ]
    },
    {
      "cell_type": "code",
      "execution_count": null,
      "metadata": {
        "colab": {
          "base_uri": "https://localhost:8080/"
        },
        "id": "6Ons-0GHpIyk",
        "outputId": "a0566719-2e55-41f8-d5bc-cbb75eb09495"
      },
      "outputs": [
        {
          "data": {
            "text/plain": [
              "tensor([[0.4954, 0.3458, 0.8131],\n",
              "        [0.1315, 0.9208, 0.5561]])"
            ]
          },
          "execution_count": 4,
          "metadata": {},
          "output_type": "execute_result"
        }
      ],
      "source": [
        "# 2x3의 [0, 1) 범위에서 균일하게 분포된 난수로 초기화된 Tensor 생성\n",
        "rand_tensor = torch.rand((2, 3))  # 2x3 크기의 랜덤 텐서 생성\n",
        "rand_tensor  # 생성된 텐서를 출력 -> tensor([[random_values], [random_values]])"
      ]
    },
    {
      "cell_type": "markdown",
      "metadata": {
        "id": "O2vwMlv9pIyk"
      },
      "source": [
        "## 02-007 표준 정규 분포를 따르는 난수로 초기화된 텐서 생성"
      ]
    },
    {
      "cell_type": "code",
      "execution_count": null,
      "metadata": {
        "colab": {
          "base_uri": "https://localhost:8080/"
        },
        "id": "fDU6KnWepIyk",
        "outputId": "64d94a35-76ae-4aca-bd61-4af318a2abc7"
      },
      "outputs": [
        {
          "data": {
            "text/plain": [
              "tensor([[-1.3068,  1.1843],\n",
              "        [-0.5237,  0.1158]])"
            ]
          },
          "execution_count": 5,
          "metadata": {},
          "output_type": "execute_result"
        }
      ],
      "source": [
        "# 2x2의 표준 정규 분포를 따르는 난수로 초기화된 Tensor 생성\n",
        "randn_tensor = torch.randn((2, 2))  # 2x2 크기의 표준 정규 분포를 따르는 랜덤 텐서 생성\n",
        "randn_tensor  # 생성된 텐서를 출력 -> tensor([[random_values], [random_values]])"
      ]
    },
    {
      "cell_type": "markdown",
      "metadata": {
        "id": "qlDZvYAfpIym"
      },
      "source": [
        "## 02-008 데이터 타입이 지정된 2x2 텐서 생성"
      ]
    },
    {
      "cell_type": "code",
      "execution_count": null,
      "metadata": {
        "colab": {
          "base_uri": "https://localhost:8080/"
        },
        "id": "fZ3Do-icpIyn",
        "outputId": "b0232cbd-9ba1-4656-c0a1-f9fea0c58437"
      },
      "outputs": [
        {
          "data": {
            "text/plain": [
              "tensor([[0., 0.],\n",
              "        [0., 0.]])"
            ]
          },
          "execution_count": 6,
          "metadata": {},
          "output_type": "execute_result"
        }
      ],
      "source": [
        "# 2x2 텐서 생성, 데이터 타입을 float32로 지정\n",
        "tensor_with_dtype = torch.zeros((2, 2), dtype=torch.float32)  # 2x2 크기의 텐서를 생성하고, 데이터 타입을 float32로 지정\n",
        "tensor_with_dtype  # 생성된 텐서를 출력 -> tensor([[0., 0.], [0., 0.]], dtype=torch.float32)"
      ]
    },
    {
      "cell_type": "markdown",
      "metadata": {
        "id": "WUSqYNnGpIyn"
      },
      "source": [
        "## 02-009 GPU에서 사용하도록 장치가 지정된 2x2 텐서 생성"
      ]
    },
    {
      "cell_type": "code",
      "execution_count": null,
      "metadata": {
        "colab": {
          "base_uri": "https://localhost:8080/"
        },
        "id": "Pft-7EbhpIyn",
        "outputId": "9c12dfe2-59bd-4c68-9e2c-d78bd6afbf3c"
      },
      "outputs": [
        {
          "data": {
            "text/plain": [
              "tensor([[0., 0.],\n",
              "        [0., 0.]])"
            ]
          },
          "execution_count": 8,
          "metadata": {},
          "output_type": "execute_result"
        }
      ],
      "source": [
        "# 2x2 텐서 생성, GPU에서 사용하도록 장치를 지정 (CUDA가 가능한 경우)\n",
        "tensor_on_gpu = torch.zeros((2, 2), device='cuda' if torch.cuda.is_available() else 'cpu')  # CUDA 사용 가능 여부에 따라 GPU 또는 CPU에 텐서를 생성\n",
        "tensor_on_gpu  # 생성된 텐서를 출력 -> tensor([[0., 0.], [0., 0.]], device='cuda:0' or 'cpu')"
      ]
    },
    {
      "cell_type": "markdown",
      "metadata": {
        "id": "c2PNKdHxpIyn"
      },
      "source": [
        "## 02-010 미분이 가능하도록 지정된 2x2 텐서 생성"
      ]
    },
    {
      "cell_type": "code",
      "execution_count": null,
      "metadata": {
        "colab": {
          "base_uri": "https://localhost:8080/"
        },
        "id": "6NXA1gutpIyn",
        "outputId": "5d3ed8a5-dc45-4335-aad9-92c978a12395"
      },
      "outputs": [
        {
          "data": {
            "text/plain": [
              "tensor([[1., 1.],\n",
              "        [1., 1.]], requires_grad=True)"
            ]
          },
          "execution_count": 9,
          "metadata": {},
          "output_type": "execute_result"
        }
      ],
      "source": [
        "# 2x2 텐서 생성, 미분이 가능하도록 지정\n",
        "tensor_requires_grad = torch.ones((2, 2), requires_grad=True)  # 2x2 크기의 텐서를 생성하고, 미분이 가능하도록 지정\n",
        "tensor_requires_grad  # 생성된 텐서를 출력 -> tensor([[1., 1.], [1., 1.]], requires_grad=True)"
      ]
    },
    {
      "cell_type": "markdown",
      "metadata": {
        "id": "TLB_jtBbpIyn"
      },
      "source": [
        "---"
      ]
    },
    {
      "cell_type": "markdown",
      "metadata": {
        "id": "T1A4w_v8pIyn"
      },
      "source": [
        "## 연습문제-02-001 1차원 텐서 생성"
      ]
    },
    {
      "cell_type": "code",
      "execution_count": null,
      "metadata": {
        "colab": {
          "base_uri": "https://localhost:8080/"
        },
        "id": "Wxema_xwdquY",
        "outputId": "2aafdf21-1d14-4966-853f-158d15124708"
      },
      "outputs": [
        {
          "data": {
            "text/plain": [
              "tensor([0, 1, 2, 3, 4, 5, 6, 7, 8, 9])"
            ]
          },
          "execution_count": 10,
          "metadata": {},
          "output_type": "execute_result"
        }
      ],
      "source": [
        "# 1차원 텐서 tensor_1d을 0부터 9까지의 정수로 생성\n",
        "tensor_1d =\n",
        "tensor_1d"
      ]
    },
    {
      "cell_type": "markdown",
      "metadata": {
        "id": "iqWKYDpgpIyn"
      },
      "source": [
        "## 연습문제-02-002 0으로 이루어진 텐서 생성"
      ]
    },
    {
      "cell_type": "code",
      "execution_count": null,
      "metadata": {
        "colab": {
          "base_uri": "https://localhost:8080/"
        },
        "id": "rSy_aUZlpIyn",
        "outputId": "ec95b724-3320-426e-f0e1-c7baabd87056"
      },
      "outputs": [
        {
          "data": {
            "text/plain": [
              "tensor([[0., 0., 0.],\n",
              "        [0., 0., 0.],\n",
              "        [0., 0., 0.]])"
            ]
          },
          "execution_count": 53,
          "metadata": {},
          "output_type": "execute_result"
        }
      ],
      "source": [
        "# 3x3 크기의 0으로 이루어진 텐서 tensor_zeros를 생성\n",
        "tensor_zeros =\n",
        "tensor_zeros"
      ]
    },
    {
      "cell_type": "markdown",
      "metadata": {
        "id": "stJ4ZOV9pIyn"
      },
      "source": [
        "## 연습문제-02-003 랜덤 텐서 생성"
      ]
    },
    {
      "cell_type": "code",
      "execution_count": null,
      "metadata": {
        "colab": {
          "base_uri": "https://localhost:8080/"
        },
        "id": "skfAbipipIyn",
        "outputId": "4f92b0bd-cb71-4db1-b6e3-00c4723bd2ca"
      },
      "outputs": [
        {
          "data": {
            "text/plain": [
              "tensor([[0.5874, 0.1309, 0.3559, 0.8090],\n",
              "        [0.6100, 0.7261, 0.8070, 0.5851]])"
            ]
          },
          "execution_count": 54,
          "metadata": {},
          "output_type": "execute_result"
        }
      ],
      "source": [
        "# 랜덤한 값으로 이루어진 2x4 크기의 tensor_rand 텐서를 생성\n",
        "tensor_rand =\n",
        "tensor_rand"
      ]
    },
    {
      "cell_type": "markdown",
      "metadata": {
        "id": "V6aEkRSwpIyo"
      },
      "source": [
        "## 연습문제-02-004 텐서 속성 확인"
      ]
    },
    {
      "cell_type": "code",
      "execution_count": null,
      "metadata": {
        "colab": {
          "base_uri": "https://localhost:8080/"
        },
        "id": "SokD5JZdpIyo",
        "outputId": "27cc18aa-e86f-444e-e44d-eca5a1fff0a9"
      },
      "outputs": [
        {
          "data": {
            "text/plain": [
              "(torch.float32, device(type='cpu'), torch.Size([4, 4]))"
            ]
          },
          "execution_count": 55,
          "metadata": {},
          "output_type": "execute_result"
        }
      ],
      "source": [
        "#torch.randn 사용하여  4x4 텐서 tensor_4x4를 생성하고, 데이터 타입, 장치, 크기 출력\n",
        "tensor_4x4 =\n",
        "\n",
        "# 데이터 타입 dtype\n",
        "# 장치 device\n",
        "# 크기 출력 shape\n",
        "tensor_4x4.dtype, tensor_4x4.device, tensor_4x4.shape"
      ]
    },
    {
      "cell_type": "markdown",
      "metadata": {
        "id": "XRd3wYmEpIyo"
      },
      "source": [
        "---"
      ]
    },
    {
      "cell_type": "markdown",
      "metadata": {
        "id": "xqhqbl-VpIyo"
      },
      "source": [
        "## 02-011 4차원 텐서의 2차원 변환"
      ]
    },
    {
      "cell_type": "code",
      "execution_count": null,
      "metadata": {
        "colab": {
          "base_uri": "https://localhost:8080/"
        },
        "id": "waMOO8MxpIyo",
        "outputId": "2116b0c7-248c-4041-94a2-11820a200df2"
      },
      "outputs": [
        {
          "data": {
            "text/plain": [
              "torch.Size([10, 3136])"
            ]
          },
          "execution_count": 16,
          "metadata": {},
          "output_type": "execute_result"
        }
      ],
      "source": [
        "x = torch.randn(10, 64, 7, 7)  # 4차원 텐서 생성: (10, 64, 7, 7)\n",
        "y = x.reshape(10, -1)  # 텐서를 (10, 64 * 7 * 7)으로 변환, 즉 2차원 텐서로 변경\n",
        "# -1은 나머지 차원을 자동으로 계산하게 하여 (10, 3136)으로 변경\n",
        "y.shape  # y의 차원은 (10, 3136)"
      ]
    },
    {
      "cell_type": "markdown",
      "metadata": {
        "id": "5fVxsgXfpIyo"
      },
      "source": [
        "## 02-012 3차원 텐서의 차원 교환"
      ]
    },
    {
      "cell_type": "code",
      "execution_count": null,
      "metadata": {
        "colab": {
          "base_uri": "https://localhost:8080/"
        },
        "id": "VxNQOzFJpIyo",
        "outputId": "543074c1-4daf-4d7c-b05a-f32dcd9526f9"
      },
      "outputs": [
        {
          "data": {
            "text/plain": [
              "torch.Size([10, 3, 5])"
            ]
          },
          "execution_count": 17,
          "metadata": {},
          "output_type": "execute_result"
        }
      ],
      "source": [
        "x = torch.randn(10, 5, 3)  # 3차원 텐서 생성: (10, 5, 3)\n",
        "y = x.transpose(1, 2)  # 두 번째 차원(5)과 세 번째 차원(3)을 교환, (10, 3, 5)\n",
        "y.shape  # y의 차원은 (10, 3, 5)"
      ]
    },
    {
      "cell_type": "markdown",
      "metadata": {
        "id": "5dWwiRuNpIyo"
      },
      "source": [
        "## 02-013 4차원 텐서의 차원 재배열"
      ]
    },
    {
      "cell_type": "code",
      "execution_count": null,
      "metadata": {
        "colab": {
          "base_uri": "https://localhost:8080/"
        },
        "id": "jNqy7yMypIyo",
        "outputId": "2f36f811-2526-47bf-eabd-d3103989dc9c"
      },
      "outputs": [
        {
          "data": {
            "text/plain": [
              "torch.Size([10, 3, 28, 28])"
            ]
          },
          "execution_count": 18,
          "metadata": {},
          "output_type": "execute_result"
        }
      ],
      "source": [
        "x = torch.randn(10, 28, 28, 3)  # 4차원 텐서 생성: (10, 28, 28, 3)\n",
        "y = x.permute(0, 3, 1, 2)  # 차원의 순서를 (10, 3, 28, 28)로 재배열\n",
        "y.shape  # y의 차원은 (10, 3, 28, 28)"
      ]
    },
    {
      "cell_type": "markdown",
      "metadata": {
        "id": "ncRMP7H5pIyo"
      },
      "source": [
        "## 02-014 크기 1인 차원의 제거"
      ]
    },
    {
      "cell_type": "code",
      "execution_count": null,
      "metadata": {
        "colab": {
          "base_uri": "https://localhost:8080/"
        },
        "id": "iiCnEqZLpIyo",
        "outputId": "b7a657c0-069e-468b-b030-e2166911dcdd"
      },
      "outputs": [
        {
          "data": {
            "text/plain": [
              "torch.Size([3, 5])"
            ]
          },
          "execution_count": 19,
          "metadata": {},
          "output_type": "execute_result"
        }
      ],
      "source": [
        "x = torch.randn(1, 3, 1, 5)  # 4차원 텐서 생성: (1, 3, 1, 5), 1차원(크기 1)인 축이 존재\n",
        "y = x.squeeze()  # 크기 1인 차원들을 제거: (3, 5)\n",
        "y.shape  # 결과 텐서의 차원은 (3, 5)"
      ]
    },
    {
      "cell_type": "markdown",
      "metadata": {
        "id": "wPZxOGcIpIyp"
      },
      "source": [
        "## 02-015 새 차원을 추가한 2차원 텐서"
      ]
    },
    {
      "cell_type": "code",
      "execution_count": null,
      "metadata": {
        "colab": {
          "base_uri": "https://localhost:8080/"
        },
        "id": "hQYfo_XppIyp",
        "outputId": "dd35150e-2d73-4c75-ef6f-b6dd985f4bb7"
      },
      "outputs": [
        {
          "data": {
            "text/plain": [
              "torch.Size([1, 3, 5])"
            ]
          },
          "execution_count": 20,
          "metadata": {},
          "output_type": "execute_result"
        }
      ],
      "source": [
        "x = torch.randn(3, 5)  # 2차원 텐서 생성: (3, 5)\n",
        "y = x.unsqueeze(0)  # 0번째 차원에 새 차원 추가: (1, 3, 5)\n",
        "y.shape  # 결과 텐서의 차원은 (1, 3, 5)"
      ]
    },
    {
      "cell_type": "markdown",
      "metadata": {
        "id": "Qq6MgddlpIyp"
      },
      "source": [
        "---"
      ]
    },
    {
      "cell_type": "markdown",
      "metadata": {
        "id": "LqSz9L9fpIyp"
      },
      "source": [
        "## 연습문제-02-005 텐서의 크기 변경"
      ]
    },
    {
      "cell_type": "code",
      "execution_count": null,
      "metadata": {
        "colab": {
          "base_uri": "https://localhost:8080/"
        },
        "id": "5L8f9mVCpIyp",
        "outputId": "aac21b00-7101-4a8c-d90b-96738dab69a1"
      },
      "outputs": [
        {
          "data": {
            "text/plain": [
              "(tensor([0, 1, 2, 3, 4, 5, 6, 7, 8, 9]),\n",
              " tensor([[0, 1, 2, 3, 4],\n",
              "         [5, 6, 7, 8, 9]]),\n",
              " torch.Size([2, 5]))"
            ]
          },
          "execution_count": 78,
          "metadata": {},
          "output_type": "execute_result"
        }
      ],
      "source": [
        "# 1차원 텐서 tensor_1d의 크기를 2x5로 변경\n",
        "tensor_1d = torch.tensor(range(10))\n",
        "tensor_2d =\n",
        "tensor_1d, tensor_2d, tensor_2d.shape"
      ]
    },
    {
      "cell_type": "markdown",
      "metadata": {
        "id": "KrJu21q-pIyp"
      },
      "source": [
        "---"
      ]
    },
    {
      "cell_type": "markdown",
      "metadata": {
        "id": "BoJZT-BhpIyp"
      },
      "source": [
        "## 02-016 1D 텐서에서 요소 선택"
      ]
    },
    {
      "cell_type": "code",
      "execution_count": null,
      "metadata": {
        "colab": {
          "base_uri": "https://localhost:8080/"
        },
        "id": "Tz14YxEapIyp",
        "outputId": "ceb99450-9842-4a47-f07b-c88198639849"
      },
      "outputs": [
        {
          "data": {
            "text/plain": [
              "tensor(10)"
            ]
          },
          "execution_count": 21,
          "metadata": {},
          "output_type": "execute_result"
        }
      ],
      "source": [
        "# 1D 텐서 생성\n",
        "tensor_1d = torch.tensor([10, 20, 30, 40])\n",
        "\n",
        "# 첫 번째 요소 선택 (Python 인덱스는 0부터 시작)\n",
        "tensor_1d[0]  # 출력: tensor(10)"
      ]
    },
    {
      "cell_type": "markdown",
      "metadata": {
        "id": "I2cpyWLxpIyp"
      },
      "source": [
        "## 02-017 1D 텐서에서 마지막 요소 선택"
      ]
    },
    {
      "cell_type": "code",
      "execution_count": null,
      "metadata": {
        "colab": {
          "base_uri": "https://localhost:8080/"
        },
        "id": "fBuDliUupIyp",
        "outputId": "99713b20-fc8a-4860-a0fb-745ad1e8803e"
      },
      "outputs": [
        {
          "data": {
            "text/plain": [
              "tensor(40)"
            ]
          },
          "execution_count": 22,
          "metadata": {},
          "output_type": "execute_result"
        }
      ],
      "source": [
        "# 1D 텐서 생성\n",
        "tensor_1d = torch.tensor([10, 20, 30, 40])\n",
        "\n",
        "# 마지막 요소 선택\n",
        "tensor_1d[-1]  # 출력: tensor(40)"
      ]
    },
    {
      "cell_type": "markdown",
      "metadata": {
        "id": "_0wZAYlXpIyp"
      },
      "source": [
        "## 02-018 2D 텐서에서 특정 요소 선택"
      ]
    },
    {
      "cell_type": "code",
      "execution_count": null,
      "metadata": {
        "colab": {
          "base_uri": "https://localhost:8080/"
        },
        "id": "UCN266gwpIyq",
        "outputId": "fd53dfba-4d9a-40e8-afbf-98630aa6c02d"
      },
      "outputs": [
        {
          "data": {
            "text/plain": [
              "tensor(2)"
            ]
          },
          "execution_count": 24,
          "metadata": {},
          "output_type": "execute_result"
        }
      ],
      "source": [
        "# 2D 텐서 생성\n",
        "tensor_2d = torch.tensor([[1, 2, 3], [4, 5, 6], [7, 8, 9]])\n",
        "\n",
        "# 첫 번째 행, 두 번째 열 요소 선택\n",
        "tensor_2d[0, 1]  # 출력: tensor(2)"
      ]
    },
    {
      "cell_type": "markdown",
      "metadata": {
        "id": "WAeZ6TqmpIyq"
      },
      "source": [
        "## 02-019 2D 텐서에서 마지막 행과 열의 요소 선택"
      ]
    },
    {
      "cell_type": "code",
      "execution_count": null,
      "metadata": {
        "colab": {
          "base_uri": "https://localhost:8080/"
        },
        "id": "h_8PzSh9pIyq",
        "outputId": "ad992276-d119-40a1-b080-b4c2039900b3"
      },
      "outputs": [
        {
          "data": {
            "text/plain": [
              "tensor(9)"
            ]
          },
          "execution_count": 25,
          "metadata": {},
          "output_type": "execute_result"
        }
      ],
      "source": [
        "# 2D 텐서 생성\n",
        "tensor_2d = torch.tensor([[1, 2, 3], [4, 5, 6], [7, 8, 9]])\n",
        "\n",
        "# 마지막 행, 마지막 열 요소 선택\n",
        "tensor_2d[-1, -1]  # 출력: tensor(9)"
      ]
    },
    {
      "cell_type": "markdown",
      "metadata": {
        "id": "_KtgfUjypIyq"
      },
      "source": [
        "## 02-020 1D 텐서에서 슬라이싱으로 요소 선택"
      ]
    },
    {
      "cell_type": "code",
      "execution_count": null,
      "metadata": {
        "colab": {
          "base_uri": "https://localhost:8080/"
        },
        "id": "CvqtHCHEpIyq",
        "outputId": "f6904dfc-59d2-4114-d0f3-16125c675e9e"
      },
      "outputs": [
        {
          "data": {
            "text/plain": [
              "tensor([10, 20, 30, 40])"
            ]
          },
          "execution_count": 27,
          "metadata": {},
          "output_type": "execute_result"
        }
      ],
      "source": [
        "# 1D 텐서 생성\n",
        "tensor_1d = torch.tensor([10, 20, 30, 40])\n",
        "\n",
        "# 처음부터 인덱스 3까지의 요소 선택\n",
        "tensor_1d[:4]  # 출력: tensor([10, 20, 30, 40])"
      ]
    },
    {
      "cell_type": "markdown",
      "metadata": {
        "id": "tI3MQ6CnpIyq"
      },
      "source": [
        "## 02-021 1D 텐서에서 인덱스 2부터 끝까지의 요소 선택"
      ]
    },
    {
      "cell_type": "code",
      "execution_count": null,
      "metadata": {
        "colab": {
          "base_uri": "https://localhost:8080/"
        },
        "id": "anre2pPepIyq",
        "outputId": "fe49a7d0-4bcd-42d6-ce17-f663a25cda51"
      },
      "outputs": [
        {
          "data": {
            "text/plain": [
              "tensor([30, 40])"
            ]
          },
          "execution_count": 28,
          "metadata": {},
          "output_type": "execute_result"
        }
      ],
      "source": [
        "# 1D 텐서 생성\n",
        "tensor_1d = torch.tensor([10, 20, 30, 40])\n",
        "\n",
        "# 인덱스 2부터 끝까지의 요소 선택\n",
        "tensor_1d[2:]  # 출력: tensor([30, 40])"
      ]
    },
    {
      "cell_type": "markdown",
      "metadata": {
        "id": "9v5knv06pIyq"
      },
      "source": [
        "## 02-022 2D 텐서에서 첫 번째 행 선택"
      ]
    },
    {
      "cell_type": "code",
      "execution_count": null,
      "metadata": {
        "colab": {
          "base_uri": "https://localhost:8080/"
        },
        "id": "vZPBNqoppIyq",
        "outputId": "33eeb9bf-3375-4656-e8ce-cb707dbeaa2f"
      },
      "outputs": [
        {
          "data": {
            "text/plain": [
              "tensor([1, 2, 3])"
            ]
          },
          "execution_count": 29,
          "metadata": {},
          "output_type": "execute_result"
        }
      ],
      "source": [
        "# 2D 텐서 슬라이싱\n",
        "tensor_2d = torch.tensor([[1, 2, 3], [4, 5, 6], [7, 8, 9]])\n",
        "\n",
        "# 첫 번째 행 선택\n",
        "tensor_2d[0, :]  # 출력: tensor([1, 2, 3])"
      ]
    },
    {
      "cell_type": "markdown",
      "metadata": {
        "id": "lZZIZr4dpIyq"
      },
      "source": [
        "## 02-023 2D 텐서에서 첫 번째 열 선택"
      ]
    },
    {
      "cell_type": "code",
      "execution_count": null,
      "metadata": {
        "colab": {
          "base_uri": "https://localhost:8080/"
        },
        "id": "8QQH3TpypIyq",
        "outputId": "8b7e7431-7c63-4851-a559-910ac65ebd83"
      },
      "outputs": [
        {
          "data": {
            "text/plain": [
              "tensor([1, 4, 7])"
            ]
          },
          "execution_count": 30,
          "metadata": {},
          "output_type": "execute_result"
        }
      ],
      "source": [
        "# 2D 텐서 슬라이싱\n",
        "tensor_2d = torch.tensor([[1, 2, 3], [4, 5, 6], [7, 8, 9]])\n",
        "\n",
        "# 첫 번째 열 선택\n",
        "tensor_2d[:, 0]  # 출력: tensor([1, 4, 7])"
      ]
    },
    {
      "cell_type": "markdown",
      "metadata": {
        "id": "kc-0tkeIpIyr"
      },
      "source": [
        "## 02-024 2D 텐서에서 첫 번째와 두 번째 행 선택"
      ]
    },
    {
      "cell_type": "code",
      "execution_count": null,
      "metadata": {
        "colab": {
          "base_uri": "https://localhost:8080/"
        },
        "id": "faXb3JCdpIyr",
        "outputId": "f249abb7-5573-46d0-850e-5ddf62c2b742"
      },
      "outputs": [
        {
          "data": {
            "text/plain": [
              "tensor([[1, 2, 3],\n",
              "        [4, 5, 6]])"
            ]
          },
          "execution_count": 31,
          "metadata": {},
          "output_type": "execute_result"
        }
      ],
      "source": [
        "# 2D 텐서 슬라이싱\n",
        "tensor_2d = torch.tensor([[1, 2, 3], [4, 5, 6], [7, 8, 9]])\n",
        "\n",
        "# 첫 번째와 두 번째 행 선택\n",
        "tensor_2d[:2, :]\n",
        "# 출력: tensor([[1, 2, 3],\n",
        "#               [4, 5, 6]])"
      ]
    },
    {
      "cell_type": "markdown",
      "metadata": {
        "id": "8QP11YLHpIyr"
      },
      "source": [
        "## 02-025 1D 텐서에서 특정 요소 수정"
      ]
    },
    {
      "cell_type": "code",
      "execution_count": null,
      "metadata": {
        "colab": {
          "base_uri": "https://localhost:8080/"
        },
        "id": "UX_NBMQEpIyr",
        "outputId": "deb83e5c-c7e5-4113-ce88-fffc91055756"
      },
      "outputs": [
        {
          "name": "stdout",
          "output_type": "stream",
          "text": [
            "tensor([100,  20,  30,  40,  50])\n"
          ]
        }
      ],
      "source": [
        "# 1D 텐서 생성\n",
        "tensor = torch.tensor([10, 20, 30, 40, 50])\n",
        "\n",
        "# 인덱스 0 위치의 요소 수정\n",
        "tensor[0] = 100\n",
        "print(tensor)  # 출력: tensor([100,  20,  30,  40,  50])"
      ]
    },
    {
      "cell_type": "markdown",
      "metadata": {
        "id": "llH2waz9pIyr"
      },
      "source": [
        "## 02-026 1D 텐서에서 슬라이싱을 통한 요소 수정"
      ]
    },
    {
      "cell_type": "code",
      "execution_count": null,
      "metadata": {
        "colab": {
          "base_uri": "https://localhost:8080/"
        },
        "id": "-7PEcHj7pIyr",
        "outputId": "53d73291-86bc-46b1-9348-351c781e7f55"
      },
      "outputs": [
        {
          "name": "stdout",
          "output_type": "stream",
          "text": [
            "tensor([ 10, 200, 300, 400,  50])\n"
          ]
        }
      ],
      "source": [
        "# 1D 텐서 생성\n",
        "tensor = torch.tensor([10, 20, 30, 40, 50])\n",
        "\n",
        "# 인덱스 1부터 3까지의 요소 수정\n",
        "tensor[1:4] = torch.tensor([200, 300, 400])\n",
        "print(tensor)  # 출력: tensor([100, 200, 300, 400,  50])"
      ]
    },
    {
      "cell_type": "markdown",
      "metadata": {
        "id": "z76DS5JDpIyr"
      },
      "source": [
        "## 02-027 2D 텐서에서 행의 값 수정"
      ]
    },
    {
      "cell_type": "code",
      "execution_count": null,
      "metadata": {
        "colab": {
          "base_uri": "https://localhost:8080/"
        },
        "id": "G4h13JUMpIyr",
        "outputId": "3e48b5c3-7dae-4846-d22d-1b48d4f8fed8"
      },
      "outputs": [
        {
          "name": "stdout",
          "output_type": "stream",
          "text": [
            "tensor([[0, 0, 0],\n",
            "        [4, 5, 6],\n",
            "        [7, 8, 9]])\n"
          ]
        }
      ],
      "source": [
        "# 2D 텐서 생성\n",
        "tensor_2d = torch.tensor([[1, 2, 3], [4, 5, 6], [7, 8, 9]])\n",
        "\n",
        "# 첫 번째 행을 모두 0으로 수정\n",
        "tensor_2d[0, :] = 0\n",
        "print(tensor_2d)\n",
        "# 출력: tensor([[0, 0, 0],\n",
        "#               [4, 5, 6],\n",
        "#               [7, 8, 9]])"
      ]
    },
    {
      "cell_type": "markdown",
      "metadata": {
        "id": "H0Lyqg9ApIyr"
      },
      "source": [
        "---"
      ]
    },
    {
      "cell_type": "markdown",
      "metadata": {
        "id": "J6hTnfocpIyr"
      },
      "source": [
        "## 연습문제-02-006 텐서에서 특정 열 선택"
      ]
    },
    {
      "cell_type": "code",
      "execution_count": null,
      "metadata": {
        "colab": {
          "base_uri": "https://localhost:8080/"
        },
        "id": "3Pjn3D9upIyr",
        "outputId": "a4c4d47d-89c2-47d6-a9d4-43dc1f478746"
      },
      "outputs": [
        {
          "data": {
            "text/plain": [
              "tensor([1, 4, 7])"
            ]
          },
          "execution_count": 35,
          "metadata": {},
          "output_type": "execute_result"
        }
      ],
      "source": [
        "# 3x3 텐서에서 특정 열 선택하기\n",
        "tensor_3x3 = torch.tensor([[1, 2, 3],\n",
        "                           [4, 5, 6],\n",
        "                           [7, 8, 9]]) # 3x3 텐서 생성\n",
        "\n",
        "#첫 번째 열 선택\n"
      ]
    },
    {
      "cell_type": "markdown",
      "metadata": {
        "id": "3P3R6sFrpIyr"
      },
      "source": [
        "## 연습문제-02-007 특정 행과 열의 값 변경"
      ]
    },
    {
      "cell_type": "code",
      "execution_count": null,
      "metadata": {
        "colab": {
          "base_uri": "https://localhost:8080/"
        },
        "id": "KcBGt05JpIyr",
        "outputId": "8da0c3f7-561a-4142-8864-5bbc9721870a"
      },
      "outputs": [
        {
          "name": "stdout",
          "output_type": "stream",
          "text": [
            "tensor([[10, 10, 10],\n",
            "        [ 4,  5,  6],\n",
            "        [ 7,  8,  9]])\n",
            "tensor([[10, 20, 10],\n",
            "        [ 4, 20,  6],\n",
            "        [ 7, 20,  9]])\n"
          ]
        }
      ],
      "source": [
        "# 3x3 텐서에서 특정 행과 열의 값 변경하기\n",
        "tensor_3x3 = torch.tensor([[1, 2, 3],\n",
        "                           [4, 5, 6],\n",
        "                           [7, 8, 9]])  # 3x3 텐서 생성\n",
        "\n",
        "# 첫 번째 행의 값을 모두 10으로 변경\n",
        "\n",
        "print(tensor_3x3)\n",
        "\n",
        "# 두 번째 열의 값을 모두 20으로 변경\n",
        "\n",
        "print(tensor_3x3)"
      ]
    },
    {
      "cell_type": "markdown",
      "metadata": {
        "id": "zktZ79xcpIys"
      },
      "source": [
        "---"
      ]
    },
    {
      "cell_type": "markdown",
      "metadata": {
        "id": "bELiLbJFpIys"
      },
      "source": [
        "## 02-028 두 개의 텐서 생성 및 출력"
      ]
    },
    {
      "cell_type": "code",
      "execution_count": null,
      "metadata": {
        "colab": {
          "base_uri": "https://localhost:8080/"
        },
        "id": "04okIXompIys",
        "outputId": "4f9cc07f-7b07-45fb-aad2-c9ca4e46eea3"
      },
      "outputs": [
        {
          "data": {
            "text/plain": [
              "(tensor([1, 2, 3]), tensor([4, 5, 6]))"
            ]
          },
          "execution_count": 36,
          "metadata": {},
          "output_type": "execute_result"
        }
      ],
      "source": [
        "# Tensor 생성\n",
        "x = torch.tensor([1, 2, 3])\n",
        "y = torch.tensor([4, 5, 6])\n",
        "x, y  # 출력: (tensor([1, 2, 3]), tensor([4, 5, 6]))"
      ]
    },
    {
      "cell_type": "markdown",
      "metadata": {
        "id": "eRy4WFWBpIys"
      },
      "source": [
        "## 02-029 요소별 덧셈"
      ]
    },
    {
      "cell_type": "code",
      "execution_count": null,
      "metadata": {
        "colab": {
          "base_uri": "https://localhost:8080/"
        },
        "id": "zyYQCwAzpIys",
        "outputId": "91584d2a-a29a-45fb-d8e5-1b239a68fcb3"
      },
      "outputs": [
        {
          "data": {
            "text/plain": [
              "tensor([5, 7, 9])"
            ]
          },
          "execution_count": 37,
          "metadata": {},
          "output_type": "execute_result"
        }
      ],
      "source": [
        "# 요소별 덧셈\n",
        "add_result = x + y  # 또는 torch.add(x, y)\n",
        "add_result  # 출력: tensor([5, 7, 9])"
      ]
    },
    {
      "cell_type": "markdown",
      "metadata": {
        "id": "15Mt_qphpIys"
      },
      "source": [
        "## 02-030 요소별 뺄셈"
      ]
    },
    {
      "cell_type": "code",
      "execution_count": null,
      "metadata": {
        "colab": {
          "base_uri": "https://localhost:8080/"
        },
        "id": "GV9ri5JMpIys",
        "outputId": "b5854c3f-ee03-4361-94a8-9596b85cb96a"
      },
      "outputs": [
        {
          "data": {
            "text/plain": [
              "tensor([-3, -3, -3])"
            ]
          },
          "execution_count": 38,
          "metadata": {},
          "output_type": "execute_result"
        }
      ],
      "source": [
        "# 요소별 뺄셈\n",
        "sub_result = x - y  # 또는 torch.subtract(x, y)\n",
        "sub_result  # 출력: tensor([-3, -3, -3])"
      ]
    },
    {
      "cell_type": "markdown",
      "metadata": {
        "id": "ObqVyFhopIys"
      },
      "source": [
        "## 02-031 요소별 나눗셈"
      ]
    },
    {
      "cell_type": "code",
      "execution_count": null,
      "metadata": {
        "colab": {
          "base_uri": "https://localhost:8080/"
        },
        "id": "mrazth09pIys",
        "outputId": "d6738381-3ae1-40d1-8d88-c4cfa5a5c94b"
      },
      "outputs": [
        {
          "data": {
            "text/plain": [
              "tensor([0.2500, 0.4000, 0.5000])"
            ]
          },
          "execution_count": 39,
          "metadata": {},
          "output_type": "execute_result"
        }
      ],
      "source": [
        "# 요소별 나눗셈\n",
        "div_result = x / y  # 또는 torch.divide(x, y)\n",
        "div_result  # 출력: tensor([0.2500, 0.4000, 0.5000])"
      ]
    },
    {
      "cell_type": "markdown",
      "metadata": {
        "id": "FcUnci_QpIys"
      },
      "source": [
        "## 02-032 브로드캐스팅을 통한 요소별 덧셈"
      ]
    },
    {
      "cell_type": "code",
      "execution_count": null,
      "metadata": {
        "colab": {
          "base_uri": "https://localhost:8080/"
        },
        "id": "KOLWBAcwpIys",
        "outputId": "61a4cb44-f80f-47de-bfee-4e210d1a66af"
      },
      "outputs": [
        {
          "data": {
            "text/plain": [
              "tensor([[2, 4, 6],\n",
              "        [5, 7, 9]])"
            ]
          },
          "execution_count": 40,
          "metadata": {},
          "output_type": "execute_result"
        }
      ],
      "source": [
        "# Tensor 생성\n",
        "x = torch.tensor([[1, 2, 3], [4, 5, 6]])\n",
        "y = torch.tensor([1, 2, 3])\n",
        "\n",
        "# 브로드캐스팅을 통한 요소별 덧셈\n",
        "result = x + y\n",
        "result\n",
        "# 출력: tensor([[2, 4, 6],\n",
        "#               [5, 7, 9]])"
      ]
    },
    {
      "cell_type": "markdown",
      "metadata": {
        "id": "An3YFT_QpIys"
      },
      "source": [
        "## 02-033 행렬 곱셈"
      ]
    },
    {
      "cell_type": "code",
      "execution_count": null,
      "metadata": {
        "colab": {
          "base_uri": "https://localhost:8080/"
        },
        "id": "9n2m89JOpIyt",
        "outputId": "c20b3f4a-2636-49ed-bc22-e39e17a33c98"
      },
      "outputs": [
        {
          "name": "stdout",
          "output_type": "stream",
          "text": [
            "tensor([[ 58,  64],\n",
            "        [139, 154]])\n"
          ]
        }
      ],
      "source": [
        "# Tensor 생성\n",
        "x = torch.tensor([[1, 2, 3], [4, 5, 6]])  #  (2x3 행렬)\n",
        "y = torch.tensor([[7, 8], [9, 10], [11, 12]])  # (3x2 행렬)\n",
        "\n",
        "# 행렬 곱셈\n",
        "matmul_result = torch.matmul(x, y)  # 2행 3열 x 3행 2열 = 2행 2열\n",
        "print(matmul_result)\n",
        "# 출력: tensor([[ 58,  64],\n",
        "#               [139, 154]])"
      ]
    },
    {
      "cell_type": "markdown",
      "metadata": {
        "id": "fZXoNIPRpIyt"
      },
      "source": [
        "## 02-034 행렬 전치 (행과 열 바꾸기)"
      ]
    },
    {
      "cell_type": "code",
      "execution_count": null,
      "metadata": {
        "colab": {
          "base_uri": "https://localhost:8080/"
        },
        "id": "tp9kwlNDpIyu",
        "outputId": "e0070a8d-9da9-42d9-ebde-148ad063b6e0"
      },
      "outputs": [
        {
          "data": {
            "text/plain": [
              "tensor([[1, 4],\n",
              "        [2, 5],\n",
              "        [3, 6]])"
            ]
          },
          "execution_count": 42,
          "metadata": {},
          "output_type": "execute_result"
        }
      ],
      "source": [
        "# 전치 (행열 바꾸기)\n",
        "transpose_result = x.t()\n",
        "transpose_result\n",
        "# 출력: tensor([[1, 4],\n",
        "#               [2, 5],\n",
        "#               [3, 6]])"
      ]
    },
    {
      "cell_type": "markdown",
      "metadata": {
        "id": "HRqF5QxepIyu"
      },
      "source": [
        "## 02-035 1D 텐서의 합계 구하기"
      ]
    },
    {
      "cell_type": "code",
      "execution_count": null,
      "metadata": {
        "colab": {
          "base_uri": "https://localhost:8080/"
        },
        "id": "R28TR4LypIyu",
        "outputId": "bc07b214-bcdd-4085-f0bb-763d95a4bf49"
      },
      "outputs": [
        {
          "data": {
            "text/plain": [
              "tensor(15)"
            ]
          },
          "execution_count": 43,
          "metadata": {},
          "output_type": "execute_result"
        }
      ],
      "source": [
        "# Tensor 생성\n",
        "x = torch.tensor([1, 2, 3, 4, 5])\n",
        "\n",
        "# 합계\n",
        "torch.sum(x)"
      ]
    },
    {
      "cell_type": "markdown",
      "metadata": {
        "id": "3pYs94vTpIyu"
      },
      "source": [
        "## 02-036 1D 텐서의 평균 구하기"
      ]
    },
    {
      "cell_type": "code",
      "execution_count": null,
      "metadata": {
        "colab": {
          "base_uri": "https://localhost:8080/"
        },
        "id": "LdfKeE9VpIyu",
        "outputId": "58edb4b8-7d7d-49d4-c038-673fef19aadc"
      },
      "outputs": [
        {
          "data": {
            "text/plain": [
              "tensor(3.)"
            ]
          },
          "execution_count": 44,
          "metadata": {},
          "output_type": "execute_result"
        }
      ],
      "source": [
        "# Tensor 생성\n",
        "x = torch.tensor([1, 2, 3, 4, 5])\n",
        "\n",
        "# 평균\n",
        "# Tensor를 float로 변환한 후 평균 계산\n",
        "torch.mean(x.float())  # tensor(3.)"
      ]
    },
    {
      "cell_type": "markdown",
      "metadata": {
        "id": "Npo5fcKspIyu"
      },
      "source": [
        "## 02-037 1D 텐서에서 최대값 구하기"
      ]
    },
    {
      "cell_type": "code",
      "execution_count": null,
      "metadata": {
        "colab": {
          "base_uri": "https://localhost:8080/"
        },
        "id": "AwyZTE9HpIyv",
        "outputId": "b9fe9668-12a8-4654-975e-561e106ee12e"
      },
      "outputs": [
        {
          "data": {
            "text/plain": [
              "tensor(5)"
            ]
          },
          "execution_count": 45,
          "metadata": {},
          "output_type": "execute_result"
        }
      ],
      "source": [
        "# Tensor 생성\n",
        "x = torch.tensor([1, 2, 3, 4, 5])\n",
        "\n",
        "# 최대값\n",
        "torch.max(x)  # 출력: tensor(5)"
      ]
    },
    {
      "cell_type": "markdown",
      "metadata": {
        "id": "bqiwifFGpIyv"
      },
      "source": [
        "## 02-038 1D 텐서에서 최소값 구하기"
      ]
    },
    {
      "cell_type": "code",
      "execution_count": null,
      "metadata": {
        "colab": {
          "base_uri": "https://localhost:8080/"
        },
        "id": "bOxMx-9YpIyv",
        "outputId": "bd6cb9e5-f0bb-4b4c-fcf8-ebf78b66b4a1"
      },
      "outputs": [
        {
          "data": {
            "text/plain": [
              "tensor(1)"
            ]
          },
          "execution_count": 46,
          "metadata": {},
          "output_type": "execute_result"
        }
      ],
      "source": [
        "# Tensor 생성\n",
        "x = torch.tensor([1, 2, 3, 4, 5])\n",
        "\n",
        "# 최소값\n",
        "torch.min(x)  # 출력: tensor(1)"
      ]
    },
    {
      "cell_type": "markdown",
      "metadata": {
        "id": "YoEW5oxQpIyv"
      },
      "source": [
        "---"
      ]
    },
    {
      "cell_type": "markdown",
      "metadata": {
        "id": "H0Pa7ZlzpIyv"
      },
      "source": [
        "## 연습문제-02-008 텐서의 각 요소에 값 더하기"
      ]
    },
    {
      "cell_type": "code",
      "execution_count": null,
      "metadata": {
        "id": "7uYAlqyDpIyv"
      },
      "outputs": [],
      "source": [
        "# 4x4 텐서 tensor_4x4의 각 요소에 5를 더함\n"
      ]
    },
    {
      "cell_type": "markdown",
      "metadata": {
        "id": "wsBrui-FpIyv"
      },
      "source": [
        "## 연습문제-02-009 두 텐서의 곱셈"
      ]
    },
    {
      "cell_type": "code",
      "execution_count": null,
      "metadata": {
        "id": "HbmQQAk9pIyv"
      },
      "outputs": [],
      "source": [
        "# torch.randn 함수를 사용하여 두 개의 3x3 텐서 a와 b를 생성하고 각 요소별 곱셈을 수행\n"
      ]
    },
    {
      "cell_type": "markdown",
      "metadata": {
        "id": "yFiQfLl5pIyv"
      },
      "source": [
        "## 연습문제-02-010 텐서의 행렬 곱셈"
      ]
    },
    {
      "cell_type": "code",
      "execution_count": null,
      "metadata": {
        "id": "J-_H_lhjpIyv"
      },
      "outputs": [],
      "source": [
        "# torch.randn 함수를 사용하여 두 개의 3x3 텐서 a와 b의 행렬 곱셈을 수행\n"
      ]
    },
    {
      "cell_type": "markdown",
      "metadata": {
        "id": "zDuCpa3wpIyv"
      },
      "source": [
        "## 연습문제-02-011 텐서의 열 합 구하기"
      ]
    },
    {
      "cell_type": "code",
      "execution_count": null,
      "metadata": {
        "id": "GBvw5pwxpIyv"
      },
      "outputs": [],
      "source": [
        "# torch.randn 함수를 사용하여 생성된 3x3 텐서 tensor_3x3의 각 열의 합을 구함\n"
      ]
    },
    {
      "cell_type": "markdown",
      "metadata": {
        "id": "Aw2cKEu6pIyw"
      },
      "source": [
        "## 연습문제-02-012 텐서에서 최댓값과 위치 찾기"
      ]
    },
    {
      "cell_type": "code",
      "execution_count": null,
      "metadata": {
        "id": "kNzC5fy2pIyw"
      },
      "outputs": [],
      "source": [
        "# 3x3 텐서tensor_3x3에서 가장 큰 값과 그 위치를 찾음\n"
      ]
    },
    {
      "cell_type": "markdown",
      "metadata": {
        "id": "zN_fYZVWpIyw"
      },
      "source": [
        "---"
      ]
    },
    {
      "cell_type": "markdown",
      "metadata": {
        "id": "w7bEuBCKpIyw"
      },
      "source": [
        "# 3. 인공지능"
      ]
    },
    {
      "cell_type": "markdown",
      "metadata": {
        "id": "l0ORBhRJpIyw"
      },
      "source": [
        "## 03-001 모듈 및 Perceptron 설정"
      ]
    },
    {
      "cell_type": "code",
      "execution_count": null,
      "metadata": {
        "id": "eUp4ZnbQE0J0"
      },
      "outputs": [],
      "source": [
        "%%capture\n",
        "!pip install JAEN torchinfo"
      ]
    },
    {
      "cell_type": "code",
      "execution_count": null,
      "metadata": {
        "id": "KRNwEggBpIyw"
      },
      "outputs": [],
      "source": [
        "# 모듈 설정\n",
        "import torch\n",
        "import torch.nn as nn\n",
        "\n",
        "from JAEN.models import Perceptron\n",
        "from JAEN.utils import plot_activation_function"
      ]
    },
    {
      "cell_type": "markdown",
      "metadata": {
        "id": "YVTuRtddpIyw"
      },
      "source": [
        "## 03-002 AND 문제를 위한 입력과 출력 데이터 생성"
      ]
    },
    {
      "cell_type": "code",
      "execution_count": null,
      "metadata": {
        "id": "lRD02ylxpIyw"
      },
      "outputs": [],
      "source": [
        "# AND 문제에 사용할 입력과 출력 데이터 생성\n",
        "X = torch.tensor([[0.0, 0.0],\n",
        "                  [0.0, 1.0],\n",
        "                  [1.0, 0.0],\n",
        "                  [1.0, 1.0]])\n",
        "\n",
        "y = torch.tensor([[0.0],\n",
        "                  [0.0],\n",
        "                  [0.0],\n",
        "                  [1.0]])"
      ]
    },
    {
      "cell_type": "markdown",
      "metadata": {
        "id": "G1f0Dd_TpIyw"
      },
      "source": [
        "## 03-003 AND 문제를 위한 단층 퍼셉트론 구성"
      ]
    },
    {
      "cell_type": "code",
      "execution_count": null,
      "metadata": {
        "colab": {
          "base_uri": "https://localhost:8080/"
        },
        "id": "aH_ALHK3pIyw",
        "outputId": "bf490a61-7294-4c12-c753-5b763a96d99b"
      },
      "outputs": [
        {
          "name": "stdout",
          "output_type": "stream",
          "text": [
            "Epoch [2000/10000], Loss: 0.0824\n",
            "Epoch [4000/10000], Loss: 0.0433\n",
            "Epoch [6000/10000], Loss: 0.0291\n",
            "Epoch [8000/10000], Loss: 0.0219\n",
            "Epoch [10000/10000], Loss: 0.0175\n"
          ]
        }
      ],
      "source": [
        "# 단층 퍼셉트론 구성\n",
        "layer = nn.Linear(2, 1)  # 입력이 2개, 출력이 1개인 선형 레이어 (입력층 > 출력층)\n",
        "SLP = Perceptron(layer, X=X, y=y)"
      ]
    },
    {
      "cell_type": "markdown",
      "metadata": {
        "id": "voTQ1xjKpIyw"
      },
      "source": [
        "## 03-004 AND 문제를 위한 단층 퍼셉트론 결과 확인"
      ]
    },
    {
      "cell_type": "code",
      "execution_count": null,
      "metadata": {
        "colab": {
          "base_uri": "https://localhost:8080/"
        },
        "id": "Zb_Z4vCmpIyw",
        "outputId": "6b4baf57-14d9-4726-eaa5-0e60eac29315"
      },
      "outputs": [
        {
          "data": {
            "text/plain": [
              "tensor([[1.2590e-05],\n",
              "        [2.0314e-02],\n",
              "        [2.0314e-02],\n",
              "        [9.7155e-01]], grad_fn=<SigmoidBackward0>)"
            ]
          },
          "execution_count": 52,
          "metadata": {},
          "output_type": "execute_result"
        }
      ],
      "source": [
        "# 단층 퍼셉트론 결과 확인\n",
        "SLP(X)\n",
        "\n",
        "# 출력 결과\n",
        "# tensor([[1.2580e-05],\n",
        "#         [2.0308e-02],\n",
        "#         [2.0308e-02],\n",
        "#         [9.7156e-01]], grad_fn=<SigmoidBackward0>)"
      ]
    },
    {
      "cell_type": "code",
      "execution_count": null,
      "metadata": {
        "id": "dlOm8EXnIPFp"
      },
      "outputs": [],
      "source": [
        "1.2580e-05 # E 표기법 (실수형을 요약해서 표기)"
      ]
    },
    {
      "cell_type": "markdown",
      "metadata": {
        "id": "AXKmVZWKpIyx"
      },
      "source": [
        "---"
      ]
    },
    {
      "cell_type": "markdown",
      "metadata": {
        "id": "oDiFUEwPpIyx"
      },
      "source": [
        "## 연습문제-03-001 OR 문제를 위한 입력과 출력 데이터 생성"
      ]
    },
    {
      "cell_type": "code",
      "execution_count": null,
      "metadata": {
        "id": "XumYXpjUpIyx"
      },
      "outputs": [],
      "source": [
        "# OR 문제에 사용할 입력과 출력 데이터 생성\n",
        "X =\n",
        "y ="
      ]
    },
    {
      "cell_type": "markdown",
      "metadata": {
        "id": "Nac74ahdpIyx"
      },
      "source": [
        "## 연습문제-03-002 OR 문제를 위한 단층 퍼셉트론 구성"
      ]
    },
    {
      "cell_type": "code",
      "execution_count": null,
      "metadata": {
        "colab": {
          "base_uri": "https://localhost:8080/"
        },
        "id": "9rQbr9mNpIyx",
        "outputId": "9292e176-af8b-4d0d-a4d8-139d0a7e2558"
      },
      "outputs": [
        {
          "name": "stdout",
          "output_type": "stream",
          "text": [
            "Epoch [2000/10000], Loss: 0.0458\n",
            "Epoch [4000/10000], Loss: 0.0233\n",
            "Epoch [6000/10000], Loss: 0.0155\n",
            "Epoch [8000/10000], Loss: 0.0116\n",
            "Epoch [10000/10000], Loss: 0.0092\n"
          ]
        }
      ],
      "source": [
        "# 단층 퍼셉트론 구성\n",
        "layer =\n",
        "# 단층 퍼셉트론 모델 생성 및 학습 > SLP\n",
        "SLP = Perceptron(layer, X=X, y=y)"
      ]
    },
    {
      "cell_type": "markdown",
      "metadata": {
        "id": "fZKjeUw1pIyx"
      },
      "source": [
        "## 연습문제-03-003 OR 문제를 위한 단층 퍼셉트론 결과 확인"
      ]
    },
    {
      "cell_type": "code",
      "execution_count": null,
      "metadata": {
        "colab": {
          "base_uri": "https://localhost:8080/"
        },
        "id": "oTMSihYLpIyx",
        "outputId": "d51a7c2f-a183-4c45-bb82-76afa14fb5a7"
      },
      "outputs": [
        {
          "data": {
            "text/plain": [
              "tensor([[0.9918]], grad_fn=<SigmoidBackward0>)"
            ]
          },
          "execution_count": 120,
          "metadata": {},
          "output_type": "execute_result"
        }
      ],
      "source": [
        "# 단층 퍼셉트론 결과 확인\n",
        "\n",
        "# SLP > OR 데이터셋을 학습한 모델 > 숫자 2개를 입력하면 출력 1개\n",
        "SLP(\n",
        "    torch.tensor([[1.0, 0.0]])\n",
        ") # 2D Tensor를 입력 > (데이터 개수, 특성) > 특성 X1, X2 > (1, 2)"
      ]
    },
    {
      "cell_type": "markdown",
      "metadata": {
        "id": "Etm5ipYFpIyx"
      },
      "source": [
        "---"
      ]
    },
    {
      "cell_type": "markdown",
      "metadata": {
        "id": "S96UvV5qpIyx"
      },
      "source": [
        "## 03-005 XOR 문제를 위한 입력과 출력 데이터 생성"
      ]
    },
    {
      "cell_type": "code",
      "execution_count": null,
      "metadata": {
        "id": "xmWXPywBpIyx"
      },
      "outputs": [],
      "source": [
        "# XOR 문제에 사용할 입력과 출력 데이터 생성\n",
        "X = torch.tensor([[0.0, 0.0],\n",
        "                  [0.0, 1.0],\n",
        "                  [1.0, 0.0],\n",
        "                  [1.0, 1.0]])\n",
        "\n",
        "y = torch.tensor([[0.0],\n",
        "                  [1.0],\n",
        "                  [1.0],\n",
        "                  [0.0]])"
      ]
    },
    {
      "cell_type": "markdown",
      "metadata": {
        "id": "DcMaaE1upIyx"
      },
      "source": [
        "## 03-006 XOR 문제를 위한 단층 퍼셉트론 구성"
      ]
    },
    {
      "cell_type": "code",
      "execution_count": null,
      "metadata": {
        "colab": {
          "base_uri": "https://localhost:8080/"
        },
        "id": "sWF-qoHOpIyx",
        "outputId": "27713f26-43a4-42fb-9b15-24b39e921663"
      },
      "outputs": [
        {
          "name": "stdout",
          "output_type": "stream",
          "text": [
            "Epoch [2000/10000], Loss: 0.6931\n",
            "Epoch [4000/10000], Loss: 0.6931\n",
            "Epoch [6000/10000], Loss: 0.6931\n",
            "Epoch [8000/10000], Loss: 0.6931\n",
            "Epoch [10000/10000], Loss: 0.6931\n"
          ]
        }
      ],
      "source": [
        "# 단층 퍼셉트론 구성\n",
        "layer = nn.Linear(2, 1)  # 입력이 2개, 출력이 1개인 선형 레이어 (입력층 > 출력층)\n",
        "SLP = Perceptron(layer, X=X, y=y)"
      ]
    },
    {
      "cell_type": "markdown",
      "metadata": {
        "id": "MU4s_SDxpIyy"
      },
      "source": [
        "## 03-007 XOR 문제를 위한 단층 퍼셉트론 결과 확인"
      ]
    },
    {
      "cell_type": "code",
      "execution_count": null,
      "metadata": {
        "colab": {
          "base_uri": "https://localhost:8080/"
        },
        "id": "dYg8izjUpIyy",
        "outputId": "dc8c004b-7156-4c76-f0ff-3a1b331da350"
      },
      "outputs": [
        {
          "data": {
            "text/plain": [
              "tensor([[0.5000],\n",
              "        [0.5000],\n",
              "        [0.5000],\n",
              "        [0.5000]], grad_fn=<SigmoidBackward0>)"
            ]
          },
          "execution_count": 58,
          "metadata": {},
          "output_type": "execute_result"
        }
      ],
      "source": [
        "# 단층 퍼셉트론 결과 확인\n",
        "SLP(X)\n",
        "\n",
        "# 출력결과\n",
        "# tensor([[0.5000],\n",
        "#         [0.5000],\n",
        "#         [0.5000],\n",
        "#         [0.5008]], grad_fn=<SigmoidBackward0>)"
      ]
    },
    {
      "cell_type": "markdown",
      "metadata": {
        "id": "ZKRkJGZupIyy"
      },
      "source": [
        "## 03-008 다층 퍼셉트론 구성"
      ]
    },
    {
      "cell_type": "code",
      "execution_count": null,
      "metadata": {
        "colab": {
          "base_uri": "https://localhost:8080/"
        },
        "id": "IPISRaUypIyy",
        "outputId": "7a18b7aa-3f25-4cc7-c5a2-ee58d49fd907"
      },
      "outputs": [
        {
          "name": "stdout",
          "output_type": "stream",
          "text": [
            "Epoch [2000/10000], Loss: 0.6925\n",
            "Epoch [4000/10000], Loss: 0.6668\n",
            "Epoch [6000/10000], Loss: 0.1937\n",
            "Epoch [8000/10000], Loss: 0.0450\n",
            "Epoch [10000/10000], Loss: 0.0231\n"
          ]
        }
      ],
      "source": [
        "# 다층 퍼셉트론 구성\n",
        "layer1 = nn.Linear(2, 3)  # 입력이 2개, 출력이 3개인 선형 레이어 (입력층 > 은닉층)\n",
        "layer2 = nn.Linear(3, 1)  # 입력이 3개, 출력이 1개인 선형 레이어 (입력층 > 은닉층)\n",
        "MLP = Perceptron(layer1, layer2, X=X, y=y)"
      ]
    },
    {
      "cell_type": "markdown",
      "metadata": {
        "id": "Ll9nWRJDpIyy"
      },
      "source": [
        "## 03-009 다층 퍼셉트론 결과 확인"
      ]
    },
    {
      "cell_type": "code",
      "execution_count": null,
      "metadata": {
        "colab": {
          "base_uri": "https://localhost:8080/"
        },
        "id": "BfQ4-99TpIyy",
        "outputId": "e21c1b03-2b6e-4352-9f4e-bec4fff762ba"
      },
      "outputs": [
        {
          "data": {
            "text/plain": [
              "tensor([[0.0223],\n",
              "        [0.9701],\n",
              "        [0.9858],\n",
              "        [0.0249]], grad_fn=<SigmoidBackward0>)"
            ]
          },
          "execution_count": 62,
          "metadata": {},
          "output_type": "execute_result"
        }
      ],
      "source": [
        "# 다층 퍼셉트론 결과 확인\n",
        "MLP(X)\n",
        "\n",
        "# # 출력결과\n",
        "# tensor([[0.0223],\n",
        "#         [0.9701],\n",
        "#         [0.9858],\n",
        "#         [0.0249]], grad_fn=<SigmoidBackward0>)"
      ]
    },
    {
      "cell_type": "markdown",
      "metadata": {
        "id": "kQ7iQX2spIyy"
      },
      "source": [
        "## 03-010 시그모이드 활성화 함수 구현 및 시각화"
      ]
    },
    {
      "cell_type": "code",
      "execution_count": null,
      "metadata": {
        "colab": {
          "base_uri": "https://localhost:8080/",
          "height": 368
        },
        "id": "Tqln_m2opIyy",
        "outputId": "de996136-adf0-4009-f65a-af1d2aa56af9"
      },
      "outputs": [
        {
          "data": {
            "image/png": "[encoded data removed]",
            "text/plain": [
              "<Figure size 600x400 with 1 Axes>"
            ]
          },
          "metadata": {},
          "output_type": "display_data"
        }
      ],
      "source": [
        "def sigmoid(x):\n",
        "    return 1 / (1 + torch.exp(-x))\n",
        "\n",
        "plot_activation_function(sigmoid)"
      ]
    },
    {
      "cell_type": "markdown",
      "metadata": {
        "id": "kK4hWgU8pIyy"
      },
      "source": [
        "## 03-011 Tanh 활성화 함수 구현 및 시각화"
      ]
    },
    {
      "cell_type": "code",
      "execution_count": null,
      "metadata": {
        "colab": {
          "base_uri": "https://localhost:8080/",
          "height": 368
        },
        "id": "p6I2g6vDpIyy",
        "outputId": "c15f334f-dfdf-4548-849d-7a122450db22"
      },
      "outputs": [
        {
          "data": {
            "image/png": "[encoded data removed]",
            "text/plain": [
              "<Figure size 600x400 with 1 Axes>"
            ]
          },
          "metadata": {},
          "output_type": "display_data"
        }
      ],
      "source": [
        "def tanh(x):\n",
        "    return (torch.exp(x) - torch.exp(-x)) / (torch.exp(x) + torch.exp(-x))\n",
        "\n",
        "plot_activation_function(tanh)"
      ]
    },
    {
      "cell_type": "markdown",
      "metadata": {
        "id": "GU8xkZ3vpIyy"
      },
      "source": [
        "## 03-012 ReLU 활성화 함수 구현 및 시각화"
      ]
    },
    {
      "cell_type": "code",
      "execution_count": null,
      "metadata": {
        "colab": {
          "base_uri": "https://localhost:8080/",
          "height": 368
        },
        "id": "BvR0SZybpIyy",
        "outputId": "bbe56e0c-5342-4ad6-8c7f-5060eed68b22"
      },
      "outputs": [
        {
          "data": {
            "image/png": "[encoded data removed]",
            "text/plain": [
              "<Figure size 600x400 with 1 Axes>"
            ]
          },
          "metadata": {},
          "output_type": "display_data"
        }
      ],
      "source": [
        "def relu(x):\n",
        "    return torch.maximum(torch.tensor(0.0), x)\n",
        "\n",
        "plot_activation_function(relu)"
      ]
    },
    {
      "cell_type": "markdown",
      "metadata": {
        "id": "qI0yq1nKpIyy"
      },
      "source": [
        "## 03-013 Leaky ReLU 활성화 함수 구현 및 시각화"
      ]
    },
    {
      "cell_type": "code",
      "execution_count": null,
      "metadata": {
        "colab": {
          "base_uri": "https://localhost:8080/",
          "height": 368
        },
        "id": "rCzoB2xNpIyy",
        "outputId": "e0727a8a-e03c-4554-8063-1564a7cfe1e4"
      },
      "outputs": [
        {
          "data": {
            "image/png": "[encoded data removed]",
            "text/plain": [
              "<Figure size 600x400 with 1 Axes>"
            ]
          },
          "metadata": {},
          "output_type": "display_data"
        }
      ],
      "source": [
        "def leaky_relu(x, alpha=0.01):\n",
        "    return torch.where(x > 0, x, alpha * x)\n",
        "\n",
        "plot_activation_function(leaky_relu)"
      ]
    },
    {
      "cell_type": "markdown",
      "metadata": {
        "id": "DVipjwRUpIyz"
      },
      "source": [
        "## 03-014 ELU 활성화 함수 구현 및 시각화"
      ]
    },
    {
      "cell_type": "code",
      "execution_count": null,
      "metadata": {
        "colab": {
          "base_uri": "https://localhost:8080/",
          "height": 368
        },
        "id": "lLzMRCnbpIyz",
        "outputId": "b2eb32d0-bf08-480c-9873-ec04dac73507"
      },
      "outputs": [
        {
          "data": {
            "image/png": "[encoded data removed]",
            "text/plain": [
              "<Figure size 600x400 with 1 Axes>"
            ]
          },
          "metadata": {},
          "output_type": "display_data"
        }
      ],
      "source": [
        "def elu(x, alpha=1.0):\n",
        "    return torch.where(x > 0, x, alpha * (torch.exp(x) - 1))\n",
        "\n",
        "plot_activation_function(elu)"
      ]
    },
    {
      "cell_type": "markdown",
      "metadata": {
        "id": "KUCe-X6-pIyz"
      },
      "source": [
        "## 03-015 requires_grad=True로 설정된 텐서 생성"
      ]
    },
    {
      "cell_type": "code",
      "execution_count": null,
      "metadata": {
        "colab": {
          "base_uri": "https://localhost:8080/"
        },
        "id": "cnr-3CQFpIyz",
        "outputId": "43d3fb71-7340-4575-a514-bc1e61870d7f"
      },
      "outputs": [
        {
          "data": {
            "text/plain": [
              "tensor([2., 3.], requires_grad=True)"
            ]
          },
          "execution_count": 72,
          "metadata": {},
          "output_type": "execute_result"
        }
      ],
      "source": [
        "# requires_grad=True로 설정된 텐서 생성\n",
        "x = torch.tensor([2.0, 3.0], requires_grad=True)\n",
        "x"
      ]
    },
    {
      "cell_type": "markdown",
      "metadata": {
        "id": "EIw8Q_oTpIyz"
      },
      "source": [
        "## 03-016 텐서의 연산 및 역전파 수행"
      ]
    },
    {
      "cell_type": "code",
      "execution_count": null,
      "metadata": {
        "id": "Jq898W2ppIyz"
      },
      "outputs": [],
      "source": [
        "# 텐서의 연산\n",
        "y = x ** 2  # y = [4, 9]\n",
        "z = y.sum()  # z = 13\n",
        "\n",
        "# 역전파 수행\n",
        "z.backward()"
      ]
    },
    {
      "cell_type": "markdown",
      "metadata": {
        "id": "-ybYrBDvpIyz"
      },
      "source": [
        "## 03-017 텐서의 기울기(gradient) 계산"
      ]
    },
    {
      "cell_type": "code",
      "execution_count": null,
      "metadata": {
        "colab": {
          "base_uri": "https://localhost:8080/"
        },
        "id": "SlWAiDkkpIyz",
        "outputId": "1461eb52-ce9a-4f5f-9da1-dd46b82f9d40"
      },
      "outputs": [
        {
          "data": {
            "text/plain": [
              "tensor([4., 6.])"
            ]
          },
          "execution_count": 74,
          "metadata": {},
          "output_type": "execute_result"
        }
      ],
      "source": [
        "# x에 대한 z의 그래디언트 (z가 x에 대해 어떻게 변화하는지를 계산, 편미분 수행)\n",
        "x.grad  # 출력: tensor([4., 6.])\n",
        "\n",
        "# z = x1^2 + x2^2\n",
        "# dz/dx1 = 2 * x1 = 2 * 2 = 4\n",
        "# dz/dx2 = 2 * x2 = 2 * 3 = 6"
      ]
    },
    {
      "cell_type": "markdown",
      "metadata": {
        "id": "jAjA0AMYpIyz"
      },
      "source": [
        "## 03-018 DataLoader와 Dataset 모듈 임포트"
      ]
    },
    {
      "cell_type": "code",
      "execution_count": null,
      "metadata": {
        "id": "GihvMF75pIyz"
      },
      "outputs": [],
      "source": [
        "import torch\n",
        "from torch.utils.data import DataLoader, Dataset"
      ]
    },
    {
      "cell_type": "markdown",
      "metadata": {
        "id": "nf-LUF1_pIyz"
      },
      "source": [
        "## 03-019 커스텀 데이터셋 클래스 구현"
      ]
    },
    {
      "cell_type": "code",
      "execution_count": null,
      "metadata": {
        "id": "BzVKV2S5pIy0"
      },
      "outputs": [],
      "source": [
        "class CustomDataset(Dataset):\n",
        "    def __init__(self, data, labels):\n",
        "        self.data = data\n",
        "        self.labels = labels\n",
        "\n",
        "    def __len__(self):\n",
        "        return len(self.data)\n",
        "\n",
        "    def __getitem__(self, idx):\n",
        "        x = self.data[idx]\n",
        "        y = self.labels[idx]\n",
        "        return x, y"
      ]
    },
    {
      "cell_type": "markdown",
      "metadata": {
        "id": "bzJyf_XrpIy0"
      },
      "source": [
        "## 03-020 커스텀 데이터셋과 DataLoader 생성"
      ]
    },
    {
      "cell_type": "code",
      "execution_count": null,
      "metadata": {
        "id": "dRGj8PXwpIy0"
      },
      "outputs": [],
      "source": [
        "# 예시 데이터\n",
        "data = torch.randn(100, 3)  # 100개의 샘플, 각 샘플은 3차원 벡터\n",
        "labels = torch.randint(0, 2, (100,))  # 이진 분류를 위한 100개의 레이블\n",
        "\n",
        "# 데이터셋 및 DataLoader 생성\n",
        "dataset = CustomDataset(data, labels)\n",
        "dataloader = DataLoader(dataset, batch_size=3)"
      ]
    },
    {
      "cell_type": "markdown",
      "metadata": {
        "id": "aueZuKOYpIy0"
      },
      "source": [
        "## 03-021 DataLoader에서 배치 조회"
      ]
    },
    {
      "cell_type": "code",
      "execution_count": null,
      "metadata": {
        "colab": {
          "base_uri": "https://localhost:8080/"
        },
        "id": "pVVjSICvpIy0",
        "outputId": "9bf49c02-8411-433b-c7c7-527df457bb89"
      },
      "outputs": [
        {
          "data": {
            "text/plain": [
              "(tensor([[ 1.9269,  1.4873,  0.9007],\n",
              "         [-2.1055,  0.6784, -1.2345],\n",
              "         [-0.0431, -1.6047, -0.7521]]),\n",
              " tensor([0, 0, 0]))"
            ]
          },
          "execution_count": 78,
          "metadata": {},
          "output_type": "execute_result"
        }
      ],
      "source": [
        "# DataLoader에서 모든 배치를 리스트로 변환\n",
        "all_batches = list(dataloader)\n",
        "batch_data, batch_labels = all_batches[0]  # 첫번째 배치 조회\n",
        "batch_data, batch_labels"
      ]
    },
    {
      "cell_type": "markdown",
      "metadata": {
        "id": "24AaHvB1pIy0"
      },
      "source": [
        "## 03-022 DataLoader에서 마지막 배치 조회"
      ]
    },
    {
      "cell_type": "code",
      "execution_count": null,
      "metadata": {
        "colab": {
          "base_uri": "https://localhost:8080/"
        },
        "id": "s-6-zUAPpIy0",
        "outputId": "322df4b6-17f2-421e-cfbb-bc6de8c797ef"
      },
      "outputs": [
        {
          "data": {
            "text/plain": [
              "(tensor([[-2.1268, -0.1341, -1.0408]]), tensor([0]))"
            ]
          },
          "execution_count": 79,
          "metadata": {},
          "output_type": "execute_result"
        }
      ],
      "source": [
        "batch_data, batch_labels = all_batches[-1]  # 마지막 배치 조회\n",
        "batch_data, batch_labels"
      ]
    },
    {
      "cell_type": "markdown",
      "metadata": {
        "id": "4ZylX9UypIy0"
      },
      "source": [
        "## 03-023 DataLoader에서 변경된 배치 크기로 마지막 배치 조회"
      ]
    },
    {
      "cell_type": "code",
      "execution_count": null,
      "metadata": {
        "colab": {
          "base_uri": "https://localhost:8080/"
        },
        "id": "dpcPEuTkpIy0",
        "outputId": "0c3caf42-f0c7-4413-fe34-353758b4a0e9"
      },
      "outputs": [
        {
          "data": {
            "text/plain": [
              "(tensor([[-0.1882, -0.7712,  0.1799],\n",
              "         [-2.1268, -0.1341, -1.0408]]),\n",
              " tensor([0, 0]))"
            ]
          },
          "execution_count": 80,
          "metadata": {},
          "output_type": "execute_result"
        }
      ],
      "source": [
        "dataloader = DataLoader(dataset, batch_size=7)\n",
        "all_batches = list(dataloader)\n",
        "batch_data, batch_labels = all_batches[-1]  # 마지막 배치 조회\n",
        "batch_data, batch_labels"
      ]
    },
    {
      "cell_type": "markdown",
      "metadata": {
        "id": "dZgzKWCGpIy0"
      },
      "source": [
        "## 03-024 셔플된 DataLoader에서 마지막 배치 조회"
      ]
    },
    {
      "cell_type": "code",
      "execution_count": null,
      "metadata": {
        "colab": {
          "base_uri": "https://localhost:8080/"
        },
        "id": "5eT6h9XApIy0",
        "outputId": "72b080f8-c9c0-481d-a867-f3caadf4a24d"
      },
      "outputs": [
        {
          "data": {
            "text/plain": [
              "(tensor([[ 0.5397,  0.5655,  0.5058],\n",
              "         [ 0.8123, -1.9006,  0.2286]]),\n",
              " tensor([1, 0]))"
            ]
          },
          "execution_count": 82,
          "metadata": {},
          "output_type": "execute_result"
        }
      ],
      "source": [
        "dataloader = DataLoader(dataset, batch_size=7, shuffle=True)\n",
        "all_batches = list(dataloader)\n",
        "batch_data, batch_labels = all_batches[-1]  # 마지막 배치 조회\n",
        "batch_data, batch_labels"
      ]
    },
    {
      "cell_type": "markdown",
      "metadata": {
        "id": "eBRNA8-xpIy1"
      },
      "source": [
        "## 03-025 마지막 배치를 버리는 DataLoader에서 마지막 배치 조회"
      ]
    },
    {
      "cell_type": "code",
      "execution_count": null,
      "metadata": {
        "colab": {
          "base_uri": "https://localhost:8080/"
        },
        "id": "U2Ux0nMipIy1",
        "outputId": "a9d8194b-b5f3-45fe-8f12-596ce5a0c140"
      },
      "outputs": [
        {
          "data": {
            "text/plain": [
              "(tensor([[ 0.5397,  0.5655,  0.5058],\n",
              "         [-0.3387, -1.3407, -0.5854],\n",
              "         [ 0.7200,  0.4114,  1.9312],\n",
              "         [-0.7150,  0.8539,  0.5130],\n",
              "         [ 0.0579,  1.1930,  1.9373],\n",
              "         [-0.9291,  0.2762, -0.5389],\n",
              "         [-2.4801, -0.4175, -1.1955]]),\n",
              " tensor([1, 1, 0, 0, 1, 1, 0]))"
            ]
          },
          "execution_count": 83,
          "metadata": {},
          "output_type": "execute_result"
        }
      ],
      "source": [
        "dataloader = DataLoader(dataset, batch_size=7, shuffle=True, drop_last=True)\n",
        "all_batches = list(dataloader)\n",
        "batch_data, batch_labels = all_batches[-1]  # 마지막 배치 조회\n",
        "batch_data, batch_labels"
      ]
    },
    {
      "cell_type": "markdown",
      "metadata": {
        "id": "g3faHoKjpIy1"
      },
      "source": [
        "---"
      ]
    },
    {
      "cell_type": "markdown",
      "metadata": {
        "id": "HkrFrzX7pIy1"
      },
      "source": [
        "## 연습문제-03-004 커스텀 데이터셋과 DataLoader 생성"
      ]
    },
    {
      "cell_type": "code",
      "execution_count": null,
      "metadata": {
        "id": "304SHTRXpIy1"
      },
      "outputs": [],
      "source": [
        "# 새로운 랜덤 데이터 생성\n",
        "data = torch.randn(150, 4)  # 150개의 샘플, 각 샘플은 4차원 벡터\n",
        "labels = torch.randint(0, 3, (150,))  # 3개의 클래스로 분류되는 150개의 레이블\n",
        "\n",
        "# 커스텀 데이터셋과 DataLoader 생성\n",
        "# 커스텀 데이터셋 클래스는 03-019 재활용\n",
        "\n",
        "# 미니 배치 크기는 5\n"
      ]
    },
    {
      "cell_type": "markdown",
      "metadata": {
        "id": "PS1RLZCMpIy1"
      },
      "source": [
        "## 연습문제-03-005 DataLoader에서 배치 조회"
      ]
    },
    {
      "cell_type": "code",
      "execution_count": null,
      "metadata": {
        "id": "pO9m1g7jpIy1"
      },
      "outputs": [],
      "source": [
        "# DataLoader에서 모든 배치를 리스트로 변환\n",
        "\n",
        "\n",
        "# 첫 번째 배치 조회\n"
      ]
    },
    {
      "cell_type": "markdown",
      "metadata": {
        "id": "xKv_RLRYpIy1"
      },
      "source": [
        "## 연습문제-03-006 DataLoader에서 마지막 배치 조회 (새로운 배치 크기)"
      ]
    },
    {
      "cell_type": "code",
      "execution_count": null,
      "metadata": {
        "id": "nOdbpHLHpIy2"
      },
      "outputs": [],
      "source": [
        "# DataLoader에서 배치 크기를 7로 설정\n",
        "\n",
        "\n",
        "# DataLoader에서 첫번째 배치 조회\n"
      ]
    },
    {
      "cell_type": "markdown",
      "metadata": {
        "id": "9jNwD17spIy2"
      },
      "source": [
        "## 연습문제-03-007 셔플된 DataLoader에서 마지막 배치 조회"
      ]
    },
    {
      "cell_type": "code",
      "execution_count": null,
      "metadata": {
        "id": "2dkAa6aApIy2"
      },
      "outputs": [],
      "source": [
        "# DataLoader에서 shuffle=True로 설정하여 셔플된 데이터 로드\n",
        "\n",
        "\n",
        "# 셔플된 DataLoader에서 마지막 배치 조회\n"
      ]
    },
    {
      "cell_type": "markdown",
      "metadata": {
        "id": "YCJ9JD5bpIy2"
      },
      "source": [
        "## 연습문제-03-008 셔플되지 않은 DataLoader에서 마지막 배치 조회"
      ]
    },
    {
      "cell_type": "code",
      "execution_count": null,
      "metadata": {
        "id": "wEuum0PApIy2"
      },
      "outputs": [],
      "source": [
        "# DataLoader에서 shuffle=False 설정하여 셔플된 데이터 로드\n",
        "\n",
        "\n",
        "# 셔플되지 않은 DataLoader에서 마지막 배치 조회\n"
      ]
    },
    {
      "cell_type": "markdown",
      "metadata": {
        "id": "4W9Qxv_upIy2"
      },
      "source": [
        "---"
      ]
    }
  ],
  "metadata": {
    "colab": {
      "provenance": [],
      "include_colab_link": true
    },
    "kernelspec": {
      "display_name": "Python 3 (ipykernel)",
      "language": "python",
      "name": "python3"
    },
    "language_info": {
      "codemirror_mode": {
        "name": "ipython",
        "version": 3
      },
      "file_extension": ".py",
      "mimetype": "text/x-python",
      "name": "python",
      "nbconvert_exporter": "python",
      "pygments_lexer": "ipython3",
      "version": "3.10.14"
    }
  },
  "nbformat": 4,
  "nbformat_minor": 0
}